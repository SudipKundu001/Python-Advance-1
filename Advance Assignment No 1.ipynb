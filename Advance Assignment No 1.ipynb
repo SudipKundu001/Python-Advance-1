{
 "cells": [
  {
   "cell_type": "markdown",
   "id": "c8b610b1",
   "metadata": {},
   "source": [
    ">__Q1. What is the purpose of Python's OOP?__"
   ]
  },
  {
   "cell_type": "markdown",
   "id": "cd7a8341",
   "metadata": {},
   "source": [
    "Ans.  The main concept of OOPs is to bind the data and the functions that work on that together as a single unit so that no other part of the code can access this data."
   ]
  },
  {
   "cell_type": "markdown",
   "id": "a4f970ad",
   "metadata": {},
   "source": [
    ">__Q2. Where does an inheritance search look for an attribute?__"
   ]
  },
  {
   "cell_type": "markdown",
   "id": "34db4532",
   "metadata": {},
   "source": [
    "ans.  All of these objects are namespaces (packages of variables), and the inheritance search is simply a search of the tree from bottom to top looking for the lowest occurrence of an attribute name."
   ]
  },
  {
   "cell_type": "markdown",
   "id": "bc6facb3",
   "metadata": {},
   "source": [
    ">__Q3. How do you distinguish between a class object and an instance object?__"
   ]
  },
  {
   "cell_type": "markdown",
   "id": "6bbdabdc",
   "metadata": {},
   "source": [
    "Ans. \n",
    "* Class : a specification, blueprint for an object.\n",
    "* Object : physical presence of the class in memory.\n",
    "* Instance : an unique copy of the object (same structure, different data)"
   ]
  },
  {
   "cell_type": "markdown",
   "id": "dd79b03b",
   "metadata": {},
   "source": [
    ">__Q4. What makes the first argument in a class’s method function special?__"
   ]
  },
  {
   "cell_type": "markdown",
   "id": "a13a7da9",
   "metadata": {},
   "source": [
    "Ans.  The first argument of every class method, including init, is always a reference to the current instance of the class. By convention, this argument is always named self. "
   ]
  },
  {
   "cell_type": "markdown",
   "id": "3b0e0056",
   "metadata": {},
   "source": [
    ">__Q5. What is the purpose of the __init__ method?__"
   ]
  },
  {
   "cell_type": "markdown",
   "id": "54541b7e",
   "metadata": {},
   "source": [
    "Ans.  The __init__ function is called every time an object is created from a class. The __init__ method lets the class initialize the object's attributes and serves no other purpose. It is only used within classes."
   ]
  },
  {
   "cell_type": "markdown",
   "id": "f4123d3c",
   "metadata": {},
   "source": [
    ">__Q6. What is the process for creating a class instance?__"
   ]
  },
  {
   "cell_type": "markdown",
   "id": "9a73f3d9",
   "metadata": {},
   "source": [
    "Ans.  Use the class name to create a new instance <br> Call ClassName() to create a new instance of the class ClassName . To pass parameters to the class instance, the class must have an __init__() method. Pass the parameters in the constructor of the class."
   ]
  },
  {
   "cell_type": "markdown",
   "id": "4ed4ab98",
   "metadata": {},
   "source": [
    ">__Q7. What is the process for creating a class?__"
   ]
  },
  {
   "cell_type": "markdown",
   "id": "97771455",
   "metadata": {},
   "source": [
    "Ans.  Declaration − A variable declaration with a variable name with an object type. <br>Instantiation − The 'new' keyword is used to create the object.<br> Initialization − The 'new' keyword is followed by a call to a constructor. This call initializes the new object."
   ]
  },
  {
   "cell_type": "markdown",
   "id": "7c993745",
   "metadata": {},
   "source": [
    ">__Q8. How would you define the superclasses of a class?__"
   ]
  },
  {
   "cell_type": "markdown",
   "id": "54098cdd",
   "metadata": {},
   "source": [
    "Ans.  A superclass is the class from which many subclasses can be created. The subclasses inherit the characteristics of a superclass. The superclass is also known as the parent class or base class."
   ]
  }
 ],
 "metadata": {
  "kernelspec": {
   "display_name": "Python 3",
   "language": "python",
   "name": "python3"
  },
  "language_info": {
   "codemirror_mode": {
    "name": "ipython",
    "version": 3
   },
   "file_extension": ".py",
   "mimetype": "text/x-python",
   "name": "python",
   "nbconvert_exporter": "python",
   "pygments_lexer": "ipython3",
   "version": "3.8.8"
  }
 },
 "nbformat": 4,
 "nbformat_minor": 5
}
